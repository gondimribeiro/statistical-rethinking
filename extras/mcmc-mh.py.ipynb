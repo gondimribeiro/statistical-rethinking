{
 "cells": [
  {
   "cell_type": "code",
   "execution_count": 12,
   "metadata": {
    "collapsed": false,
    "deletable": true,
    "editable": true
   },
   "outputs": [
    {
     "name": "stdout",
     "output_type": "stream",
     "text": [
      "--- SUMMARY ---\n",
      "Acceptance ratio = 0.0308\n",
      "Mean sample =  0.051476459731\n",
      "STD sample =  0.00651225542306\n"
     ]
    }
   ],
   "source": [
    "# Markov Chain Monte Carlo -- Metropolis-Hastings\n",
    "import numpy as np\n",
    "from scipy.stats import beta, norm, uniform, binom\n",
    "import matplotlib.pyplot as plt\n",
    "%matplotlib inline  \n",
    "plt.style.use('ggplot')\n",
    "\n",
    "# data\n",
    "visits = 1058\n",
    "hits = 52\n",
    "likelihood =  binom\n",
    "prior =  beta(2, 2)\n",
    "\n",
    "# Algorithm parameters\n",
    "niter = 10000\n",
    "samples = np.zeros(niter + 1)\n",
    "theta = float(hits) / visits\n",
    "samples[0] = theta\n",
    "naccepted = 0.0\n",
    "\n",
    "for i in range(niter):\n",
    "    # sample candidate from proposal distribution\n",
    "    theta_candidate = theta + norm(0, 0.3).rvs()\n",
    "\n",
    "    # compute acceptance rate\n",
    "    alpha = likelihood(visits, theta_candidate).logpmf(hits) + prior.logpdf(theta_candidate)\n",
    "    alpha -=  likelihood(visits, theta).logpmf(hits) + prior.logpdf(theta)\n",
    "    \n",
    "    # test if candidate will be accepted\n",
    "    if uniform.rvs(0, 1) < np.exp(alpha):\n",
    "        theta = theta_candidate\n",
    "        naccepted += 1\n",
    "    \n",
    "    # store sample\n",
    "    samples[i + 1] = theta\n",
    "    \n",
    "print('--- SUMMARY ---')\n",
    "print('Acceptance ratio =', naccepted / niter)\n",
    "print('Mean sample = ', samples.mean())\n",
    "print('STD sample = ', samples.std())"
   ]
  },
  {
   "cell_type": "code",
   "execution_count": 13,
   "metadata": {
    "collapsed": false
   },
   "outputs": [
    {
     "data": {
      "text/plain": [
       "<matplotlib.text.Text at 0x7f44168f7828>"
      ]
     },
     "execution_count": 13,
     "metadata": {},
     "output_type": "execute_result"
    },
    {
     "data": {
      "image/png": "[encoded data removed]",
      "text/plain": [
       "<matplotlib.figure.Figure at 0x7f4416954748>"
      ]
     },
     "metadata": {},
     "output_type": "display_data"
    }
   ],
   "source": [
    "plt.hist(samples, alpha=0.5)\n",
    "plt.xlabel('p')\n",
    "plt.ylabel('freq')"
   ]
  }
 ],
 "metadata": {
  "kernelspec": {
   "display_name": "Python [conda root]",
   "language": "python",
   "name": "conda-root-py"
  },
  "language_info": {
   "codemirror_mode": {
    "name": "ipython",
    "version": 3
   },
   "file_extension": ".py",
   "mimetype": "text/x-python",
   "name": "python",
   "nbconvert_exporter": "python",
   "pygments_lexer": "ipython3",
   "version": "3.5.2"
  }
 },
 "nbformat": 4,
 "nbformat_minor": 2
}
