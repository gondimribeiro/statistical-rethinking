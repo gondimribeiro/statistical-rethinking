{
 "cells": [
  {
   "cell_type": "code",
   "execution_count": 57,
   "metadata": {},
   "outputs": [
    {
     "data": {
      "text/plain": [
       "<matplotlib.collections.PathCollection at 0x7f1a740c2438>"
      ]
     },
     "execution_count": 57,
     "metadata": {},
     "output_type": "execute_result"
    },
    {
     "data": {
      "image/png": "[encoded data removed]",
      "text/plain": [
       "<matplotlib.figure.Figure at 0x7f1a6e967b00>"
      ]
     },
     "metadata": {},
     "output_type": "display_data"
    }
   ],
   "source": [
    "import numpy as np\n",
    "import pandas as pd\n",
    "import matplotlib.pyplot as plt\n",
    "import pystan\n",
    "from sklearn import preprocessing\n",
    "import re\n",
    "%matplotlib inline  \n",
    "plt.style.use('ggplot')\n",
    "\n",
    "# Load data\n",
    "X = []\n",
    "Y = []\n",
    "\n",
    "non_decimal = re.compile(r'[^\\d]+')\n",
    "\n",
    "for line in open('moore.csv'):\n",
    "    r = line.split('\\t')\n",
    "    x = int(non_decimal.sub('', r[2].split('[')[0]))\n",
    "    y = int(non_decimal.sub('', r[1].split('[')[0]))\n",
    "    X.append(x)\n",
    "    Y.append(y)\n",
    "\n",
    "X = np.array(X)\n",
    "Y = np.array(Y)\n",
    "X.shape = (X.shape[0], 1)\n",
    "X = np.concatenate((np.ones((X.shape[0], 1)), X), axis=1)\n",
    "Y = np.log(Y)\n",
    "\n",
    "# Divide training and test set\n",
    "N, M = X.shape\n",
    "idx = int(0.8*N)\n",
    "X_train = X[:idx, :]\n",
    "Y_train = Y[:idx]\n",
    "N_train = idx\n",
    "X_test = X[idx:, :]\n",
    "Y_test = Y[idx:]\n",
    "N_test = N - N_train\n",
    "\n",
    "plt.scatter(X[:, 1:], Y, alpha=0.5)"
   ]
  },
  {
   "cell_type": "code",
   "execution_count": 62,
   "metadata": {},
   "outputs": [
    {
     "name": "stderr",
     "output_type": "stream",
     "text": [
      "INFO:pystan:COMPILING THE C++ CODE FOR MODEL anon_model_53a49e3d298c0515a9dcb995c0d55527 NOW.\n"
     ]
    },
    {
     "name": "stdout",
     "output_type": "stream",
     "text": [
      "Inference for Stan model: anon_model_53a49e3d298c0515a9dcb995c0d55527.\n",
      "1 chains, each with iter=1000; warmup=500; thin=1; \n",
      "post-warmup draws per chain=500, total post-warmup draws=500.\n",
      "\n",
      "             mean se_mean     sd   2.5%    25%    50%    75%  97.5%  n_eff   Rhat\n",
      "beta[0]    -547.0   40.41  156.5 -840.9 -659.0 -559.3 -443.3 -219.6     15   1.07\n",
      "beta[1]      0.28    0.02   0.08   0.12   0.23   0.29   0.34   0.43     15   1.07\n",
      "log_sigma   -0.64    0.03   0.13  -0.87  -0.73  -0.66  -0.56  -0.33     22   1.02\n",
      "mu[0]       21.31    0.03   0.16  21.03   21.2   21.3  21.42  21.65     28   1.05\n",
      "mu[1]       21.31    0.03   0.16  21.03   21.2   21.3  21.42  21.65     28   1.05\n",
      "mu[2]       21.31    0.03   0.16  21.03   21.2   21.3  21.42  21.65     28   1.05\n",
      "mu[3]       21.31    0.03   0.16  21.03   21.2   21.3  21.42  21.65     28   1.05\n",
      "mu[4]       21.31    0.03   0.16  21.03   21.2   21.3  21.42  21.65     28   1.05\n",
      "mu[5]        21.6  9.8e-3   0.11   21.4  21.52  21.59  21.66  21.84    127   1.01\n",
      "mu[6]        21.6  9.8e-3   0.11   21.4  21.52  21.59  21.66  21.84    127   1.01\n",
      "mu[7]        21.6  9.8e-3   0.11   21.4  21.52  21.59  21.66  21.84    127   1.01\n",
      "mu[8]        21.6  9.8e-3   0.11   21.4  21.52  21.59  21.66  21.84    127   1.01\n",
      "mu[9]       21.88  9.6e-3   0.11  21.67   21.8  21.89  21.95   22.1    135    1.0\n",
      "mu[10]      21.88  9.6e-3   0.11  21.67   21.8  21.89  21.95   22.1    135    1.0\n",
      "mu[11]      21.88  9.6e-3   0.11  21.67   21.8  21.89  21.95   22.1    135    1.0\n",
      "mu[12]      21.88  9.6e-3   0.11  21.67   21.8  21.89  21.95   22.1    135    1.0\n",
      "mu[13]      21.88  9.6e-3   0.11  21.67   21.8  21.89  21.95   22.1    135    1.0\n",
      "mu[14]      21.88  9.6e-3   0.11  21.67   21.8  21.89  21.95   22.1    135    1.0\n",
      "mu[15]      22.16    0.03   0.16  21.86  22.05  22.17  22.26  22.47     25   1.03\n",
      "mu[16]      22.16    0.03   0.16  21.86  22.05  22.17  22.26  22.47     25   1.03\n",
      "mu[17]      22.16    0.03   0.16  21.86  22.05  22.17  22.26  22.47     25   1.03\n",
      "mu[18]      22.16    0.03   0.16  21.86  22.05  22.17  22.26  22.47     25   1.03\n",
      "mu[19]      22.16    0.03   0.16  21.86  22.05  22.17  22.26  22.47     25   1.03\n",
      "mu[20]      22.44    0.05   0.22  22.01  22.29  22.45  22.58  22.87     19   1.05\n",
      "Y_pred[0]   21.31    0.03   0.16  21.03   21.2   21.3  21.42  21.65     28   1.05\n",
      "Y_pred[1]   21.31    0.03   0.16  21.03   21.2   21.3  21.42  21.65     28   1.05\n",
      "Y_pred[2]   21.31    0.03   0.16  21.03   21.2   21.3  21.42  21.65     28   1.05\n",
      "Y_pred[3]   21.31    0.03   0.16  21.03   21.2   21.3  21.42  21.65     28   1.05\n",
      "Y_pred[4]   21.31    0.03   0.16  21.03   21.2   21.3  21.42  21.65     28   1.05\n",
      "Y_pred[5]    21.6  9.8e-3   0.11   21.4  21.52  21.59  21.66  21.84    127   1.01\n",
      "Y_pred[6]    21.6  9.8e-3   0.11   21.4  21.52  21.59  21.66  21.84    127   1.01\n",
      "Y_pred[7]    21.6  9.8e-3   0.11   21.4  21.52  21.59  21.66  21.84    127   1.01\n",
      "Y_pred[8]    21.6  9.8e-3   0.11   21.4  21.52  21.59  21.66  21.84    127   1.01\n",
      "Y_pred[9]   21.88  9.6e-3   0.11  21.67   21.8  21.89  21.95   22.1    135    1.0\n",
      "Y_pred[10]  21.88  9.6e-3   0.11  21.67   21.8  21.89  21.95   22.1    135    1.0\n",
      "Y_pred[11]  21.88  9.6e-3   0.11  21.67   21.8  21.89  21.95   22.1    135    1.0\n",
      "Y_pred[12]  21.88  9.6e-3   0.11  21.67   21.8  21.89  21.95   22.1    135    1.0\n",
      "Y_pred[13]  21.88  9.6e-3   0.11  21.67   21.8  21.89  21.95   22.1    135    1.0\n",
      "Y_pred[14]  21.88  9.6e-3   0.11  21.67   21.8  21.89  21.95   22.1    135    1.0\n",
      "Y_pred[15]  22.16    0.03   0.16  21.86  22.05  22.17  22.26  22.47     25   1.03\n",
      "Y_pred[16]  22.16    0.03   0.16  21.86  22.05  22.17  22.26  22.47     25   1.03\n",
      "Y_pred[17]  22.16    0.03   0.16  21.86  22.05  22.17  22.26  22.47     25   1.03\n",
      "Y_pred[18]  22.16    0.03   0.16  21.86  22.05  22.17  22.26  22.47     25   1.03\n",
      "Y_pred[19]  22.16    0.03   0.16  21.86  22.05  22.17  22.26  22.47     25   1.03\n",
      "Y_pred[20]  22.44    0.05   0.22  22.01  22.29  22.45  22.58  22.87     19   1.05\n",
      "lp__         1.21    0.13   0.99  -1.32   0.81   1.51   1.91    2.3     55   1.03\n",
      "\n",
      "Samples were drawn using NUTS at Thu Apr  6 20:50:39 2017.\n",
      "For each parameter, n_eff is a crude measure of effective sample size,\n",
      "and Rhat is the potential scale reduction factor on split chains (at \n",
      "convergence, Rhat=1).\n"
     ]
    }
   ],
   "source": [
    "# Pystan model for Ridge Regression\n",
    "\n",
    "ridge_code = \"\"\"\n",
    "\n",
    "data {\n",
    "    int<lower=0> M; // number of predictors\n",
    "    int<lower=0> N_train; // number of observations on training\n",
    "    matrix[N_train, M] X_train; // predictors matrix for training\n",
    "    vector[N_train] Y_train; // response vector for training\n",
    "    int<lower=0> N_test; // number of observations on test\n",
    "    matrix[N_test, M] X_test; // predictors matrix for test\n",
    "}\n",
    "\n",
    "transformed data{}\n",
    "\n",
    "parameters {\n",
    "    vector[M] beta;\n",
    "    real log_sigma;\n",
    "}\n",
    "\n",
    "transformed parameters{\n",
    "    vector[N_train] mu;\n",
    "    mu <- X_train*beta;\n",
    "}\n",
    "\n",
    "model {\n",
    "    Y_train ~ normal(mu, exp(log_sigma));\n",
    "}\n",
    "\n",
    "generated quantities {\n",
    "    vector[N_test] Y_pred;\n",
    "    Y_pred <- X_test*beta; //the y values predicted by the model\n",
    "}\n",
    "\"\"\"\n",
    "\n",
    "# dictionary containing data\n",
    "data = {\n",
    "    'X_train': X_test,\n",
    "    'Y_train': Y_test,\n",
    "    'N_train': N_test,\n",
    "    'X_test': X_test,\n",
    "    'N_test': N_test,\n",
    "    'M': M\n",
    "}\n",
    "\n",
    "# fit model\n",
    "fit = pystan.stan(model_code=ridge_code, data=data, iter=1000, chains=1)\n",
    "print(fit)"
   ]
  },
  {
   "cell_type": "code",
   "execution_count": 81,
   "metadata": {},
   "outputs": [
    {
     "data": {
      "text/plain": [
       "0.024890161197544437"
      ]
     },
     "execution_count": 81,
     "metadata": {},
     "output_type": "execute_result"
    }
   ],
   "source": [
    "Y_pred = fit.extract('Y_pred')['Y_pred']\n",
    "np.linalg.norm(Y_pred.mean(axis=0) - Y_test) / np.linalg.norm(Y_pred.mean(axis=0))"
   ]
  }
 ],
 "metadata": {
  "kernelspec": {
   "display_name": "Python 3",
   "language": "python",
   "name": "python3"
  },
  "language_info": {
   "codemirror_mode": {
    "name": "ipython",
    "version": 3
   },
   "file_extension": ".py",
   "mimetype": "text/x-python",
   "name": "python",
   "nbconvert_exporter": "python",
   "pygments_lexer": "ipython3",
   "version": "3.6.1"
  }
 },
 "nbformat": 4,
 "nbformat_minor": 2
}
