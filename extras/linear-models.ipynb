{
 "cells": [
  {
   "cell_type": "code",
   "execution_count": 82,
   "metadata": {},
   "outputs": [
    {
     "data": {
      "text/plain": [
       "<matplotlib.collections.PathCollection at 0x7f1a758bca20>"
      ]
     },
     "execution_count": 82,
     "metadata": {},
     "output_type": "execute_result"
    },
    {
     "data": {
      "image/png": "[encoded data removed]",
      "text/plain": [
       "<matplotlib.figure.Figure at 0x7f1a74097160>"
      ]
     },
     "metadata": {},
     "output_type": "display_data"
    }
   ],
   "source": [
    "import numpy as np\n",
    "import pandas as pd\n",
    "import matplotlib.pyplot as plt\n",
    "import pystan\n",
    "from sklearn import preprocessing\n",
    "import re\n",
    "from sklearn.utils import shuffle\n",
    "\n",
    "%matplotlib inline  \n",
    "plt.style.use('ggplot')\n",
    "\n",
    "# Load data\n",
    "X = []\n",
    "Y = []\n",
    "\n",
    "non_decimal = re.compile(r'[^\\d]+')\n",
    "\n",
    "for line in open('moore.csv'):\n",
    "    r = line.split('\\t')\n",
    "    x = int(non_decimal.sub('', r[2].split('[')[0]))\n",
    "    y = int(non_decimal.sub('', r[1].split('[')[0]))\n",
    "    X.append(x)\n",
    "    Y.append(y)\n",
    "\n",
    "X = np.array(X)\n",
    "Y = np.array(Y)\n",
    "X, Y = shuffle(X, Y, random_state=0)\n",
    "\n",
    "X.shape = (X.shape[0], 1)\n",
    "X = np.concatenate((np.ones((X.shape[0], 1)), X), axis=1)\n",
    "Y = np.log(Y)\n",
    "\n",
    "# split data into training and test set\n",
    "N, M = X.shape\n",
    "idx = int(0.8*N)\n",
    "X_train = X[:idx, :]\n",
    "Y_train = Y[:idx]\n",
    "N_train = idx\n",
    "X_test = X[idx:, :]\n",
    "Y_test = Y[idx:]\n",
    "N_test = N - N_train\n",
    "\n",
    "plt.scatter(X[:, 1:], Y, alpha=0.5)"
   ]
  },
  {
   "cell_type": "code",
   "execution_count": 83,
   "metadata": {},
   "outputs": [
    {
     "name": "stderr",
     "output_type": "stream",
     "text": [
      "INFO:pystan:COMPILING THE C++ CODE FOR MODEL anon_model_53a49e3d298c0515a9dcb995c0d55527 NOW.\n"
     ]
    },
    {
     "name": "stdout",
     "output_type": "stream",
     "text": [
      "Inference for Stan model: anon_model_53a49e3d298c0515a9dcb995c0d55527.\n",
      "1 chains, each with iter=1000; warmup=500; thin=1; \n",
      "post-warmup draws per chain=500, total post-warmup draws=500.\n",
      "\n",
      "             mean se_mean     sd   2.5%    25%    50%    75%  97.5%  n_eff   Rhat\n",
      "beta[0]    -682.8    5.29  61.74 -794.0 -724.6 -691.1 -644.5 -558.4    136    1.0\n",
      "beta[1]      0.35  2.6e-3   0.03   0.29   0.33   0.35   0.37   0.41    136    1.0\n",
      "log_sigma     0.4    0.01   0.17   0.11   0.27   0.38    0.5   0.77    136   1.02\n",
      "mu[0]       12.93    0.04   0.55  11.86  12.54  12.91  13.25  14.08    189    1.0\n",
      "mu[1]       16.42    0.02   0.38  15.63  16.17  16.42  16.66  17.18    369    1.0\n",
      "mu[2]       20.97    0.03   0.46  20.03  20.69  20.96  21.27  21.86    312    1.0\n",
      "mu[3]       17.47    0.02   0.36  16.72  17.23  17.48  17.71  18.17    491    1.0\n",
      "mu[4]       16.42    0.02   0.38  15.63  16.17  16.42  16.66  17.18    369    1.0\n",
      "mu[5]       19.57    0.02    0.4   18.8  19.34  19.55  19.83  20.39    442    1.0\n",
      "mu[6]       18.87    0.02   0.37  18.12  18.64  18.88  19.12  19.63    489    1.0\n",
      "mu[7]        9.43    0.07   0.81    7.9   8.87   9.39   9.91   11.2    149    1.0\n",
      "mu[8]       21.67    0.03    0.5  20.64  21.37  21.66  22.02   22.7    255    1.0\n",
      "mu[9]       21.32    0.03   0.48  20.34  21.03  21.31  21.64  22.28    271    1.0\n",
      "mu[10]      20.27    0.02   0.43  19.43  20.01  20.28  20.57  21.11    392    1.0\n",
      "mu[11]      21.32    0.03   0.48  20.34  21.03  21.31  21.64  22.28    271    1.0\n",
      "mu[12]      16.07    0.02   0.39  15.24  15.82  16.07  16.32  16.85    332    1.0\n",
      "mu[13]      11.88    0.05   0.62   10.7  11.46  11.85  12.25  13.25    166    1.0\n",
      "mu[14]      20.97    0.03   0.46  20.03  20.69  20.96  21.27  21.86    312    1.0\n",
      "mu[15]       9.08    0.07   0.84   7.49    8.5   9.05   9.57  10.91    148    1.0\n",
      "mu[16]      22.02    0.03   0.52  20.94   21.7  22.02  22.39   23.1    241    1.0\n",
      "mu[17]      19.57    0.02    0.4   18.8  19.34  19.55  19.83  20.39    442    1.0\n",
      "mu[18]      19.57    0.02    0.4   18.8  19.34  19.55  19.83  20.39    442    1.0\n",
      "mu[19]      17.82    0.02   0.36  17.08  17.58  17.83  18.07   18.5    500    1.0\n",
      "mu[20]      17.12    0.02   0.36  16.35  16.89  17.13  17.37   17.8    467    1.0\n",
      "Y_pred[0]   12.93    0.04   0.55  11.86  12.54  12.91  13.25  14.08    189    1.0\n",
      "Y_pred[1]   16.42    0.02   0.38  15.63  16.17  16.42  16.66  17.18    369    1.0\n",
      "Y_pred[2]   20.97    0.03   0.46  20.03  20.69  20.96  21.27  21.86    312    1.0\n",
      "Y_pred[3]   17.47    0.02   0.36  16.72  17.23  17.48  17.71  18.17    491    1.0\n",
      "Y_pred[4]   16.42    0.02   0.38  15.63  16.17  16.42  16.66  17.18    369    1.0\n",
      "Y_pred[5]   19.57    0.02    0.4   18.8  19.34  19.55  19.83  20.39    442    1.0\n",
      "Y_pred[6]   18.87    0.02   0.37  18.12  18.64  18.88  19.12  19.63    489    1.0\n",
      "Y_pred[7]    9.43    0.07   0.81    7.9   8.87   9.39   9.91   11.2    149    1.0\n",
      "Y_pred[8]   21.67    0.03    0.5  20.64  21.37  21.66  22.02   22.7    255    1.0\n",
      "Y_pred[9]   21.32    0.03   0.48  20.34  21.03  21.31  21.64  22.28    271    1.0\n",
      "Y_pred[10]  20.27    0.02   0.43  19.43  20.01  20.28  20.57  21.11    392    1.0\n",
      "Y_pred[11]  21.32    0.03   0.48  20.34  21.03  21.31  21.64  22.28    271    1.0\n",
      "Y_pred[12]  16.07    0.02   0.39  15.24  15.82  16.07  16.32  16.85    332    1.0\n",
      "Y_pred[13]  11.88    0.05   0.62   10.7  11.46  11.85  12.25  13.25    166    1.0\n",
      "Y_pred[14]  20.97    0.03   0.46  20.03  20.69  20.96  21.27  21.86    312    1.0\n",
      "Y_pred[15]   9.08    0.07   0.84   7.49    8.5   9.05   9.57  10.91    148    1.0\n",
      "Y_pred[16]  22.02    0.03   0.52  20.94   21.7  22.02  22.39   23.1    241    1.0\n",
      "Y_pred[17]  19.57    0.02    0.4   18.8  19.34  19.55  19.83  20.39    442    1.0\n",
      "Y_pred[18]  19.57    0.02    0.4   18.8  19.34  19.55  19.83  20.39    442    1.0\n",
      "Y_pred[19]  17.82    0.02   0.36  17.08  17.58  17.83  18.07   18.5    500    1.0\n",
      "Y_pred[20]  17.12    0.02   0.36  16.35  16.89  17.13  17.37   17.8    467    1.0\n",
      "lp__       -18.74    0.15   1.45 -22.15  -19.4 -18.36 -17.61 -17.09     97   1.03\n",
      "\n",
      "Samples were drawn using NUTS at Thu Apr  6 21:07:05 2017.\n",
      "For each parameter, n_eff is a crude measure of effective sample size,\n",
      "and Rhat is the potential scale reduction factor on split chains (at \n",
      "convergence, Rhat=1).\n"
     ]
    }
   ],
   "source": [
    "# Pystan model for Ridge Regression\n",
    "\n",
    "ridge_code = \"\"\"\n",
    "\n",
    "data {\n",
    "    int<lower=0> M; // number of predictors\n",
    "    int<lower=0> N_train; // number of observations on training\n",
    "    matrix[N_train, M] X_train; // predictors matrix for training\n",
    "    vector[N_train] Y_train; // response vector for training\n",
    "    int<lower=0> N_test; // number of observations on test\n",
    "    matrix[N_test, M] X_test; // predictors matrix for test\n",
    "}\n",
    "\n",
    "transformed data{}\n",
    "\n",
    "parameters {\n",
    "    vector[M] beta;\n",
    "    real log_sigma;\n",
    "}\n",
    "\n",
    "transformed parameters{\n",
    "    vector[N_train] mu;\n",
    "    mu <- X_train*beta;\n",
    "}\n",
    "\n",
    "model {\n",
    "    Y_train ~ normal(mu, exp(log_sigma));\n",
    "}\n",
    "\n",
    "generated quantities {\n",
    "    vector[N_test] Y_pred;\n",
    "    Y_pred <- X_test*beta; //the y values predicted by the model\n",
    "}\n",
    "\"\"\"\n",
    "\n",
    "# dictionary containing data\n",
    "data = {\n",
    "    'X_train': X_test,\n",
    "    'Y_train': Y_test,\n",
    "    'N_train': N_test,\n",
    "    'X_test': X_test,\n",
    "    'N_test': N_test,\n",
    "    'M': M\n",
    "}\n",
    "\n",
    "# fit model\n",
    "fit = pystan.stan(model_code=ridge_code, data=data, iter=1000, chains=1)\n",
    "print(fit)"
   ]
  }
 ],
 "metadata": {
  "kernelspec": {
   "display_name": "Python 3",
   "language": "python",
   "name": "python3"
  },
  "language_info": {
   "codemirror_mode": {
    "name": "ipython",
    "version": 3
   },
   "file_extension": ".py",
   "mimetype": "text/x-python",
   "name": "python",
   "nbconvert_exporter": "python",
   "pygments_lexer": "ipython3",
   "version": "3.6.1"
  }
 },
 "nbformat": 4,
 "nbformat_minor": 2
}
